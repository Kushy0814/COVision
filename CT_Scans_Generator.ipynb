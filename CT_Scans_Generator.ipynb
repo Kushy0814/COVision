{
  "cells": [
    {
      "cell_type": "code",
      "execution_count": 14,
      "metadata": {
        "id": "174A2ozDUNd_"
      },
      "outputs": [],
      "source": [
        "import tensorflow as tf"
      ]
    },
    {
      "cell_type": "code",
      "execution_count": 15,
      "metadata": {
        "id": "YxwiRIhjURaa"
      },
      "outputs": [],
      "source": [
        "# Process the txt file and strip out the path of each image and its corresponding label\n",
        "imagePathsAll = []\n",
        "def load_labels(label_file):\n",
        "    paths, labels = [], []\n",
        "    with open(label_file, 'r') as f:\n",
        "        for line in f.readlines():\n",
        "            path, label, xmin, ymin, xmax, ymax = line.strip('\\n').split()\n",
        "            paths.append(path)\n",
        "            imagePathsAll.append(path)\n",
        "            labels.append(int(label))\n",
        "    return paths, labels"
      ]
    },
    {
      "cell_type": "code",
      "execution_count": 16,
      "metadata": {
        "id": "W6AAiYUvrDbQ"
      },
      "outputs": [],
      "source": [
        "testPaths, testLabels = load_labels('/content/test_COVIDx_CT-2A.txt')"
      ]
    },
    {
      "cell_type": "code",
      "execution_count": 17,
      "metadata": {
        "id": "PNoib_uHrxZB"
      },
      "outputs": [],
      "source": [
        "#Append random sample of test images and labels to corresponding arrays\n",
        "import random\n",
        "typeAmount = 200\n",
        "arr = random.sample(range(len(testPaths)), typeAmount)"
      ]
    },
    {
      "cell_type": "code",
      "execution_count": 18,
      "metadata": {
        "id": "yh0JuLKXUUHf"
      },
      "outputs": [],
      "source": [
        "directory = '/content/2A_images/'\n",
        "imageData = []\n",
        "imageLabels = []\n",
        "for i in range(len(arr)):\n",
        "  imageData.append(directory + testPaths[arr[i]])\n",
        "  imageLabels.append(testLabels[arr[i]])"
      ]
    },
    {
      "cell_type": "code",
      "execution_count": null,
      "metadata": {
        "id": "RgzdKOLJVTSg"
      },
      "outputs": [],
      "source": [
        "# Save CT Scans with corresponding title\n",
        "from PIL import Image\n",
        "for i in range(len(imageData)):\n",
        "  img = Image.open(imageData[i])\n",
        "  name = \"ct_scan_\" + str(i) + \".jpg\"\n",
        "  img = img.save(name)\n",
        "  label = \"\"\n",
        "  if (imageLabels[i] == 0):\n",
        "      label = \"0 - Normal\"\n",
        "  elif (imageLabels[i] == 1):\n",
        "      label = \"1 - Pneumonia\"\n",
        "  else:\n",
        "      label = \"2 - COVID-19\"\n",
        "  info = name + \": \" + label\n",
        "  print(info)"
      ]
    }
  ],
  "metadata": {
    "colab": {
      "name": "CT Scans Generator.ipynb",
      "provenance": []
    },
    "kernelspec": {
      "display_name": "Python 3",
      "name": "python3"
    },
    "language_info": {
      "name": "python"
    }
  },
  "nbformat": 4,
  "nbformat_minor": 0
}
