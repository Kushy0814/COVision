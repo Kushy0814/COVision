{
  "nbformat": 4,
  "nbformat_minor": 0,
  "metadata": {
    "colab": {
      "name": "CT Scans Generator.ipynb",
      "provenance": []
    },
    "kernelspec": {
      "name": "python3",
      "display_name": "Python 3"
    },
    "language_info": {
      "name": "python"
    }
  },
  "cells": [
    {
      "cell_type": "code",
      "execution_count": 14,
      "metadata": {
        "id": "174A2ozDUNd_"
      },
      "outputs": [],
      "source": [
        "import tensorflow as tf"
      ]
    },
    {
      "cell_type": "code",
      "source": [
        "import os\n",
        "os.environ['KAGGLE_USERNAME'] = \"timothymathew\" # username from the json file\n",
        "os.environ['KAGGLE_KEY'] = \"bb0a99d9d8813ba5bed919ec080aa5cc\" # key from the json file\n",
        "!kaggle datasets download -d hgunraj/covidxct\n",
        "!unzip -q \"/content/covidxct.zip\""
      ],
      "metadata": {
        "id": "bGb2C4i5UPsN"
      },
      "execution_count": null,
      "outputs": []
    },
    {
      "cell_type": "code",
      "source": [
        "imagePathsAll = []\n",
        "def load_labels(label_file):\n",
        "    paths, labels = [], []\n",
        "    with open(label_file, 'r') as f:\n",
        "        for line in f.readlines():\n",
        "            path, label, xmin, ymin, xmax, ymax = line.strip('\\n').split()\n",
        "            paths.append(path)\n",
        "            imagePathsAll.append(path)\n",
        "            labels.append(int(label))\n",
        "    return paths, labels"
      ],
      "metadata": {
        "id": "YxwiRIhjURaa"
      },
      "execution_count": 15,
      "outputs": []
    },
    {
      "cell_type": "code",
      "source": [
        "testPaths, testLabels = load_labels('/content/test_COVIDx_CT-2A.txt')"
      ],
      "metadata": {
        "id": "W6AAiYUvrDbQ"
      },
      "execution_count": 16,
      "outputs": []
    },
    {
      "cell_type": "code",
      "source": [
        "import random\n",
        "typeAmount = 200\n",
        "arr = random.sample(range(len(testPaths)), typeAmount)"
      ],
      "metadata": {
        "id": "PNoib_uHrxZB"
      },
      "execution_count": 17,
      "outputs": []
    },
    {
      "cell_type": "code",
      "source": [
        "directory = '/content/2A_images/'\n",
        "imageData = []\n",
        "imageLabels = []\n",
        "for i in range(len(arr)):\n",
        "  imageData.append(directory + testPaths[arr[i]])\n",
        "  imageLabels.append(testLabels[arr[i]])"
      ],
      "metadata": {
        "id": "yh0JuLKXUUHf"
      },
      "execution_count": 18,
      "outputs": []
    },
    {
      "cell_type": "code",
      "source": [
        "from PIL import Image\n",
        "for i in range(len(imageData)):\n",
        "  img = Image.open(imageData[i])\n",
        "  name = \"ct_scan_\" + str(i) + \".jpg\"\n",
        "  img = img.save(name)\n",
        "  label = \"\"\n",
        "  if (imageLabels[i] == 0):\n",
        "      label = \"0 - Normal\"\n",
        "  elif (imageLabels[i] == 1):\n",
        "      label = \"1 - Pneumonia\"\n",
        "  else:\n",
        "      label = \"2 - COVID-19\"\n",
        "  info = name + \": \" + label\n",
        "  print(info)"
      ],
      "metadata": {
        "id": "RgzdKOLJVTSg"
      },
      "execution_count": null,
      "outputs": []
    }
  ]
}