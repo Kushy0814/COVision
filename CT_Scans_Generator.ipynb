{
  "cells": [
    {
      "cell_type": "code",
      "execution_count": 1,
      "metadata": {
        "id": "174A2ozDUNd_"
      },
      "outputs": [],
      "source": [
        "import tensorflow as tf"
      ]
    },
    {
      "cell_type": "code",
      "execution_count": null,
      "metadata": {
        "colab": {
          "base_uri": "https://localhost:8080/"
        },
        "id": "bGb2C4i5UPsN",
        "outputId": "9dd2cf80-294d-4e62-8149-241530bc65d6"
      },
      "outputs": [],
      "source": [
        "import os\n",
        "os.environ['KAGGLE_USERNAME'] = \"timothymathew\" # username from the json file\n",
        "os.environ['KAGGLE_KEY'] = \"bb0a99d9d8813ba5bed919ec080aa5cc\" # key from the json file\n",
        "!kaggle datasets download -d hgunraj/covidxct\n",
        "!unzip -q \"/content/covidxct.zip\""
      ]
    },
    {
      "cell_type": "code",
      "execution_count": 3,
      "metadata": {
        "id": "YxwiRIhjURaa"
      },
      "outputs": [],
      "source": [
        "imagePathsAll = []\n",
        "def load_labels(label_file):\n",
        "    paths, labels = [], []\n",
        "    with open(label_file, 'r') as f:\n",
        "        for line in f.readlines():\n",
        "            path, label, xmin, ymin, xmax, ymax = line.strip('\\n').split()\n",
        "            paths.append(path)\n",
        "            imagePathsAll.append(path)\n",
        "            labels.append(int(label))\n",
        "    return paths, labels"
      ]
    },
    {
      "cell_type": "code",
      "execution_count": 4,
      "metadata": {
        "id": "yh0JuLKXUUHf"
      },
      "outputs": [],
      "source": [
        "directory = '/content/2A_images/'\n",
        "def process_images(paths, labels, bound):\n",
        "  imageData = []\n",
        "  boundedLabels = []\n",
        "  imageCount = [0, 0, 0]\n",
        "  imageDone = [False, False, False]\n",
        "  for i in range(len(paths)):\n",
        "    if (imageCount[labels[i]] < bound):\n",
        "      imageCount[labels[i]] += 1\n",
        "      imageData.append(directory + paths[i])\n",
        "      boundedLabels.append(labels[i])\n",
        "    else:\n",
        "      imageDone[labels[i]] = True\n",
        "      if (imageDone[0] and imageDone[1] and imageDone[2]):\n",
        "        break\n",
        "  return imageData, boundedLabels"
      ]
    },
    {
      "cell_type": "code",
      "execution_count": 5,
      "metadata": {
        "id": "z9HbLpLaVAoo"
      },
      "outputs": [],
      "source": [
        "testPaths, testLabels = load_labels('/content/test_COVIDx_CT-2A.txt')\n",
        "testData, testLabels = process_images(testPaths, testLabels, 50)"
      ]
    },
    {
      "cell_type": "code",
      "execution_count": 6,
      "metadata": {
        "colab": {
          "base_uri": "https://localhost:8080/"
        },
        "id": "RgzdKOLJVTSg",
        "outputId": "e059125e-82dc-4223-cb24-1192a8eb9ab7"
      },
      "outputs": [
        {
          "name": "stdout",
          "output_type": "stream",
          "text": [
            "ct_scan_48.jpg: 2 - COVID-19\n",
            "ct_scan_24.jpg: 2 - COVID-19\n",
            "ct_scan_33.jpg: 2 - COVID-19\n",
            "ct_scan_28.jpg: 2 - COVID-19\n",
            "ct_scan_13.jpg: 2 - COVID-19\n",
            "ct_scan_37.jpg: 2 - COVID-19\n",
            "ct_scan_10.jpg: 2 - COVID-19\n",
            "ct_scan_35.jpg: 2 - COVID-19\n",
            "ct_scan_22.jpg: 2 - COVID-19\n",
            "ct_scan_30.jpg: 2 - COVID-19\n",
            "ct_scan_8.jpg: 2 - COVID-19\n",
            "ct_scan_6.jpg: 2 - COVID-19\n",
            "ct_scan_41.jpg: 2 - COVID-19\n",
            "ct_scan_15.jpg: 2 - COVID-19\n",
            "ct_scan_25.jpg: 2 - COVID-19\n",
            "ct_scan_40.jpg: 2 - COVID-19\n",
            "ct_scan_1.jpg: 2 - COVID-19\n",
            "ct_scan_14.jpg: 1 - Pneumonia\n",
            "ct_scan_5.jpg: 1 - Pneumonia\n",
            "ct_scan_31.jpg: 1 - Pneumonia\n",
            "ct_scan_29.jpg: 1 - Pneumonia\n",
            "ct_scan_34.jpg: 1 - Pneumonia\n",
            "ct_scan_26.jpg: 1 - Pneumonia\n",
            "ct_scan_32.jpg: 1 - Pneumonia\n",
            "ct_scan_36.jpg: 1 - Pneumonia\n",
            "ct_scan_44.jpg: 1 - Pneumonia\n",
            "ct_scan_39.jpg: 1 - Pneumonia\n",
            "ct_scan_7.jpg: 1 - Pneumonia\n",
            "ct_scan_49.jpg: 1 - Pneumonia\n",
            "ct_scan_38.jpg: 1 - Pneumonia\n",
            "ct_scan_12.jpg: 1 - Pneumonia\n",
            "ct_scan_45.jpg: 1 - Pneumonia\n",
            "ct_scan_9.jpg: 1 - Pneumonia\n",
            "ct_scan_17.jpg: 1 - Pneumonia\n",
            "ct_scan_27.jpg: 0 - Normal\n",
            "ct_scan_46.jpg: 0 - Normal\n",
            "ct_scan_19.jpg: 0 - Normal\n",
            "ct_scan_21.jpg: 0 - Normal\n",
            "ct_scan_47.jpg: 0 - Normal\n",
            "ct_scan_0.jpg: 0 - Normal\n",
            "ct_scan_18.jpg: 0 - Normal\n",
            "ct_scan_2.jpg: 0 - Normal\n",
            "ct_scan_4.jpg: 0 - Normal\n",
            "ct_scan_42.jpg: 0 - Normal\n",
            "ct_scan_16.jpg: 0 - Normal\n",
            "ct_scan_43.jpg: 0 - Normal\n",
            "ct_scan_20.jpg: 0 - Normal\n",
            "ct_scan_50.jpg: 0 - Normal\n",
            "ct_scan_11.jpg: 0 - Normal\n",
            "ct_scan_3.jpg: 0 - Normal\n",
            "ct_scan_23.jpg: 0 - Normal\n"
          ]
        }
      ],
      "source": [
        "from PIL import Image\n",
        "import random\n",
        "arr = random.sample(range(150), 150)\n",
        "for i in range(150):\n",
        "  img = Image.open(testData[i])\n",
        "  name = \"ct_scan_\" + str(arr[i]) + \".jpg\"\n",
        "  img = img.save(name)\n",
        "  label = \"\"\n",
        "  if (testLabels[i] == 0):\n",
        "      label = \"0 - Normal\"\n",
        "  elif (testLabels[i] == 1):\n",
        "      label = \"1 - Pneumonia\"\n",
        "  else:\n",
        "      label = \"2 - COVID-19\"\n",
        "  info = name + \": \" + label\n",
        "  print(info)"
      ]
    }
  ],
  "metadata": {
    "colab": {
      "name": "CT Scans Generator.ipynb",
      "provenance": []
    },
    "kernelspec": {
      "display_name": "Python 3",
      "name": "python3"
    },
    "language_info": {
      "name": "python"
    }
  },
  "nbformat": 4,
  "nbformat_minor": 0
}
