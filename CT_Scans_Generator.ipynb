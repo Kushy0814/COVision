{
  "cells": [
    {
      "cell_type": "code",
      "execution_count": 1,
      "metadata": {
        "id": "174A2ozDUNd_"
      },
      "outputs": [],
      "source": [
        "import tensorflow as tf"
      ]
    },
    {
      "cell_type": "code",
      "execution_count": null,
      "metadata": {
        "colab": {
          "base_uri": "https://localhost:8080/"
        },
        "id": "bGb2C4i5UPsN",
        "outputId": "9dd2cf80-294d-4e62-8149-241530bc65d6"
      },
      "outputs": [],
      "source": [
        "import os\n",
        "os.environ['KAGGLE_USERNAME'] = \"timothymathew\" # username from the json file\n",
        "os.environ['KAGGLE_KEY'] = \"bb0a99d9d8813ba5bed919ec080aa5cc\" # key from the json file\n",
        "!kaggle datasets download -d hgunraj/covidxct\n",
        "!unzip -q \"/content/covidxct.zip\""
      ]
    },
    {
      "cell_type": "code",
      "execution_count": 3,
      "metadata": {
        "id": "YxwiRIhjURaa"
      },
      "outputs": [],
      "source": [
        "imagePathsAll = []\n",
        "def load_labels(label_file):\n",
        "    paths, labels = [], []\n",
        "    with open(label_file, 'r') as f:\n",
        "        for line in f.readlines():\n",
        "            path, label, xmin, ymin, xmax, ymax = line.strip('\\n').split()\n",
        "            paths.append(path)\n",
        "            imagePathsAll.append(path)\n",
        "            labels.append(int(label))\n",
        "    return paths, labels"
      ]
    },
    {
      "cell_type": "code",
      "execution_count": 4,
      "metadata": {
        "id": "yh0JuLKXUUHf"
      },
      "outputs": [],
      "source": [
        "directory = '/content/2A_images/'\n",
        "def process_images(paths, labels, bound):\n",
        "  imageData = []\n",
        "  boundedLabels = []\n",
        "  imageCount = [0, 0, 0]\n",
        "  imageDone = [False, False, False]\n",
        "  for i in range(len(paths)):\n",
        "    if (imageCount[labels[i]] < bound):\n",
        "      imageCount[labels[i]] += 1\n",
        "      imageData.append(directory + paths[i])\n",
        "      boundedLabels.append(labels[i])\n",
        "    else:\n",
        "      imageDone[labels[i]] = True\n",
        "      if (imageDone[0] and imageDone[1] and imageDone[2]):\n",
        "        break\n",
        "  return imageData, boundedLabels"
      ]
    },
    {
      "cell_type": "code",
      "execution_count": 5,
      "metadata": {
        "id": "z9HbLpLaVAoo"
      },
      "outputs": [],
      "source": [
        "testPaths, testLabels = load_labels('/content/test_COVIDx_CT-2A.txt')\n",
        "testData, testLabels = process_images(testPaths, testLabels, 50)"
      ]
    },
    {
      "cell_type": "code",
      "execution_count": null,
      "metadata": {
        "colab": {
          "base_uri": "https://localhost:8080/"
        },
        "id": "RgzdKOLJVTSg",
        "outputId": "e059125e-82dc-4223-cb24-1192a8eb9ab7"
      },
      "outputs": [],
      "source": [
        "from PIL import Image\n",
        "import random\n",
        "arr = random.sample(range(150), 150)\n",
        "for i in range(150):\n",
        "  img = Image.open(testData[i])\n",
        "  name = \"ct_scan_\" + str(arr[i]) + \".jpg\"\n",
        "  img = img.save(name)\n",
        "  label = \"\"\n",
        "  if (testLabels[i] == 0):\n",
        "      label = \"0 - Normal\"\n",
        "  elif (testLabels[i] == 1):\n",
        "      label = \"1 - Pneumonia\"\n",
        "  else:\n",
        "      label = \"2 - COVID-19\"\n",
        "  info = name + \": \" + label\n",
        "  print(info)"
      ]
    }
  ],
  "metadata": {
    "colab": {
      "name": "CT Scans Generator.ipynb",
      "provenance": []
    },
    "kernelspec": {
      "display_name": "Python 3",
      "name": "python3"
    },
    "language_info": {
      "name": "python"
    }
  },
  "nbformat": 4,
  "nbformat_minor": 0
}
