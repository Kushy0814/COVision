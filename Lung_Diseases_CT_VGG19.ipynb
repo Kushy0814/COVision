{
  "cells": [
    {
      "cell_type": "code",
      "execution_count": null,
      "metadata": {
        "colab": {
          "base_uri": "https://localhost:8080/"
        },
        "id": "MJwP5VYoFyIt",
        "outputId": "c1efc478-538a-4ace-a857-fba566ddada5"
      },
      "outputs": [],
      "source": [
        "import tensorflow as tf\n",
        "from tensorflow.keras import datasets, layers, models, applications\n",
        "!pip install tensorflow-addons\n",
        "import tensorflow_addons as tfa\n",
        "import numpy as np\n",
        "import matplotlib.pyplot as plt"
      ]
    },
    {
      "cell_type": "code",
      "execution_count": null,
      "metadata": {
        "colab": {
          "base_uri": "https://localhost:8080/"
        },
        "id": "d9MirhtNFCUn",
        "outputId": "1e3e4ff8-7747-464d-ddfc-f123cf01e1f5"
      },
      "outputs": [],
      "source": [
        "import os\n",
        "os.environ['KAGGLE_USERNAME'] = \"timothymathew\" # username from the json file\n",
        "os.environ['KAGGLE_KEY'] = \"bb0a99d9d8813ba5bed919ec080aa5cc\" # key from the json file\n",
        "!kaggle datasets download -d hgunraj/covidxct\n",
        "!unzip -q \"/content/covidxct.zip\""
      ]
    },
    {
      "cell_type": "code",
      "execution_count": 2,
      "metadata": {
        "id": "re8hKAUNFcDk"
      },
      "outputs": [],
      "source": [
        "imagePathsAll = []\n",
        "def load_labels(label_file):\n",
        "    paths, labels = [], []\n",
        "    with open(label_file, 'r') as f:\n",
        "        for line in f.readlines():\n",
        "            path, label, xmin, ymin, xmax, ymax = line.strip('\\n').split()\n",
        "            paths.append(path)\n",
        "            imagePathsAll.append(path)\n",
        "            labels.append(int(label))\n",
        "    return paths, labels"
      ]
    },
    {
      "cell_type": "code",
      "execution_count": 3,
      "metadata": {
        "id": "HCK2_hf4nmWU"
      },
      "outputs": [],
      "source": [
        "directory = '/content/2A_images/'\n",
        "def process_images(paths, labels, bound):\n",
        "  imageData = []\n",
        "  boundedLabels = []\n",
        "  imageCount = [0, 0, 0]\n",
        "  imageDone = [False, False, False]\n",
        "  for i in range(len(paths)):\n",
        "    if (imageCount[labels[i]] < bound):\n",
        "      imageCount[labels[i]] += 1\n",
        "      if (len(imageData) % 10000 == 0):\n",
        "        print(len(imageData))\n",
        "      imgTensor = tf.image.decode_image(tf.io.read_file(directory + paths[i]))\n",
        "      resizedImage = tf.image.resize(imgTensor, [224, 224], method='lanczos3')/255\n",
        "      coloredImage = tf.image.grayscale_to_rgb(resizedImage)\n",
        "      imageData.append(coloredImage)\n",
        "      # imageData.append(directory + paths[i])\n",
        "      boundedLabels.append(labels[i])\n",
        "    else:\n",
        "      imageDone[labels[i]] = True\n",
        "      if (imageDone[0] and imageDone[1] and imageDone[2]):\n",
        "        break\n",
        "  return tf.convert_to_tensor(imageData), boundedLabels\n",
        "  # return imageData, boundedLabels"
      ]
    },
    {
      "cell_type": "code",
      "execution_count": null,
      "metadata": {
        "colab": {
          "base_uri": "https://localhost:8080/"
        },
        "id": "4FvHq4fGHVIh",
        "outputId": "e1c13317-3bd1-4206-ffbe-109fb4b28a80"
      },
      "outputs": [],
      "source": [
        "trainPaths, trainLabels = load_labels('/content/train_COVIDx_CT-2A.txt')\n",
        "valPaths, valLabels = load_labels('/content/val_COVIDx_CT-2A.txt')\n",
        "testPaths, testLabels = load_labels('/content/test_COVIDx_CT-2A.txt')\n",
        "\n",
        "# actual training: 25000, 10000, 3000\n",
        "# test training: 3500, 500, 1000\n",
        "trainData, trainLabels = process_images(trainPaths, trainLabels, 3500)\n",
        "valData, valLabels = process_images(valPaths, valLabels, 500)\n",
        "testData, testLabels = process_images(testPaths, testLabels, 1000)\n",
        "\n",
        "trainLabels = tf.keras.utils.to_categorical(trainLabels)\n",
        "valLabels = tf.keras.utils.to_categorical(valLabels)"
      ]
    },
    {
      "cell_type": "code",
      "execution_count": null,
      "metadata": {
        "id": "50dHv2IOWsEM"
      },
      "outputs": [],
      "source": [
        "# creating datasets for radiologists\n",
        "from PIL import Image\n",
        "import random\n",
        "arr = random.sample(range(150), 150)\n",
        "for i in range(150):\n",
        "  img = Image.open(testData[i])\n",
        "  name = \"ct_scan_\" + str(arr[i]) + \".jpg\"\n",
        "  img = img.save(name)\n",
        "  label = \"\"\n",
        "  if (testLabels[i] == 0):\n",
        "      label = \"0 - Normal\"\n",
        "  elif (testLabels[i] == 1):\n",
        "      label = \"1 - Pneumonia\"\n",
        "  else:\n",
        "      label = \"2 - COVID-19\"\n",
        "  info = name + \": \" + label\n",
        "  print(info)"
      ]
    },
    {
      "cell_type": "code",
      "execution_count": null,
      "metadata": {
        "id": "R-9Iy_Gzzh9x"
      },
      "outputs": [],
      "source": [
        "# custom model (outdated severely)\n",
        "model = models.Sequential()\n",
        "model.add(layers.Conv2D(64, (3, 3), activation='relu', input_shape=(128, 128, 1)))\n",
        "model.add(layers.Conv2D(64, (3, 3), activation='relu'))\n",
        "model.add(layers.MaxPooling2D((2, 2)))\n",
        "model.add(layers.Conv2D(128, (3, 3), activation='relu'))\n",
        "model.add(layers.Conv2D(128, (3, 3), activation='relu'))\n",
        "model.add(layers.MaxPooling2D((2, 2)))\n",
        "model.add(layers.Conv2D(256, (3, 3), activation='relu'))\n",
        "model.add(layers.Conv2D(256, (3, 3), activation='relu'))\n",
        "model.add(layers.MaxPooling2D((2, 2)))\n",
        "model.add(layers.Conv2D(512, (3, 3), activation='relu'))\n",
        "model.add(layers.Conv2D(512, (3, 3), activation='relu'))\n",
        "model.add(layers.MaxPooling2D((2, 2)))\n",
        "model.add(layers.Flatten())\n",
        "model.add(layers.Dense(2048, activation='relu'))\n",
        "model.add(layers.Dense(1024, activation='relu'))\n",
        "model.add(layers.Dense(3, activation='softmax'))\n",
        "model.summary()"
      ]
    },
    {
      "cell_type": "code",
      "execution_count": 5,
      "metadata": {
        "id": "i55mT_UxFJOY"
      },
      "outputs": [],
      "source": [
        "vggModel = tf.keras.applications.vgg19.VGG19(include_top=False, input_shape=(224, 224, 3))\n",
        "# model = tf.keras.applications.resnet_v2.ResNet152V2(weights=None, input_shape=(128, 128, 1), classes=3)\n",
        "# model = tf.keras.applications.densenet.DenseNet121(weights=None, input_shape=(128, 128, 1), classes=3)\n",
        "# model = tf.keras.applications.efficientnet.EfficientNetB0(weights=None, input_shape=(128, 128, 1), classes=3)"
      ]
    },
    {
      "cell_type": "code",
      "execution_count": null,
      "metadata": {
        "id": "xUkmi-yEw-P3"
      },
      "outputs": [],
      "source": [
        "layer = vggModel.output\n",
        "layer = layers.Flatten()(layer)\n",
        "layer = layers.Dense(512, activation=\"relu\")(layer)\n",
        "layer = layers.Dropout(0.3)(layer)\n",
        "layer = layers.Dense(128, activation=\"relu\")(layer)\n",
        "predictions = layers.Dense(3, activation=\"softmax\")(layer)\n",
        "model = models.Model(vggModel.input, predictions)"
      ]
    },
    {
      "cell_type": "code",
      "execution_count": 10,
      "metadata": {
        "id": "HXL8M1EOzqGA"
      },
      "outputs": [],
      "source": [
        "model.compile(optimizer='adamax',  \n",
        "              loss=tf.keras.losses.CategoricalCrossentropy(),\n",
        "              metrics=['accuracy', \n",
        "                       tf.keras.metrics.AUC(),\n",
        "                       tfa.metrics.F1Score(3)])"
      ]
    },
    {
      "cell_type": "code",
      "execution_count": null,
      "metadata": {
        "id": "8z4z9a9c0C6w"
      },
      "outputs": [],
      "source": [
        "history = model.fit(trainData, trainLabels, epochs=4, validation_data=(valData, valLabels))"
      ]
    },
    {
      "cell_type": "code",
      "execution_count": null,
      "metadata": {
        "colab": {
          "base_uri": "https://localhost:8080/"
        },
        "id": "-7FRFQflElde",
        "outputId": "9af1d6e7-cebb-47f1-e042-9aa467cda78e"
      },
      "outputs": [],
      "source": [
        "testPredictions = model.predict(testData)\n",
        "testPredictionLabels = []\n",
        "testAccuracy = 0\n",
        "for i in range(len(testPredictions)):\n",
        "  testPredictionLabels.append(np.argmax(testPredictions[i]))\n",
        "  if (testPredictionLabels[i] == testLabels[i]):\n",
        "    testAccuracy += 1\n",
        "print(testAccuracy/len(testPredictionLabels))\n",
        "confusion_mtx = tf.math.confusion_matrix(testLabels, testPredictionLabels, 3)\n",
        "print(confusion_mtx)"
      ]
    },
    {
      "cell_type": "code",
      "execution_count": null,
      "metadata": {
        "colab": {
          "base_uri": "https://localhost:8080/",
          "height": 499
        },
        "id": "yAC44CfPrjx_",
        "outputId": "4e62140f-3d14-4b99-d249-fc73ffa526c4"
      },
      "outputs": [],
      "source": [
        "acc = history.history['accuracy']\n",
        "val_acc = history.history['val_accuracy']\n",
        "\n",
        "loss = history.history['loss']\n",
        "val_loss = history.history['val_loss']\n",
        "\n",
        "epochs_range = range(4)\n",
        "\n",
        "plt.figure(figsize=(8, 8))\n",
        "plt.subplot(1, 2, 1)\n",
        "plt.plot(epochs_range, acc, label='Training Accuracy')\n",
        "plt.plot(epochs_range, val_acc, label='Validation Accuracy')\n",
        "plt.legend(loc='lower right')\n",
        "plt.title('Training and Validation Accuracy')\n",
        "\n",
        "plt.subplot(1, 2, 2)\n",
        "plt.plot(epochs_range, loss, label='Training Loss')\n",
        "plt.plot(epochs_range, val_loss, label='Validation Loss')\n",
        "plt.legend(loc='upper right')\n",
        "plt.title('Training and Validation Loss')\n",
        "plt.show()\n"
      ]
    }
  ],
  "metadata": {
    "colab": {
      "collapsed_sections": [],
      "name": "Lung Diseases CT VGG19.ipynb",
      "provenance": []
    },
    "kernelspec": {
      "display_name": "Python 3",
      "name": "python3"
    },
    "language_info": {
      "name": "python"
    }
  },
  "nbformat": 4,
  "nbformat_minor": 0
}
