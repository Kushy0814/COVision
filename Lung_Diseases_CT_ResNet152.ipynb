{
  "cells": [
    {
      "cell_type": "code",
      "execution_count": null,
      "metadata": {
        "id": "MJwP5VYoFyIt"
      },
      "outputs": [],
      "source": [
        "import tensorflow as tf\n",
        "from tensorflow.keras import datasets, layers, models, applications\n",
        "!pip install tensorflow-addons\n",
        "import tensorflow_addons as tfa\n",
        "import numpy as np\n",
        "import matplotlib.pyplot as plt"
      ]
    },
    {
      "cell_type": "code",
      "execution_count": null,
      "metadata": {
        "id": "d9MirhtNFCUn"
      },
      "outputs": [],
      "source": [
        "import os\n",
        "os.environ['KAGGLE_USERNAME'] = \"timothymathew\" # username from the json file\n",
        "os.environ['KAGGLE_KEY'] = \"bb0a99d9d8813ba5bed919ec080aa5cc\" # key from the json file\n",
        "!kaggle datasets download -d hgunraj/covidxct\n",
        "!unzip -q \"/content/covidxct.zip\""
      ]
    },
    {
      "cell_type": "code",
      "execution_count": 3,
      "metadata": {
        "id": "re8hKAUNFcDk"
      },
      "outputs": [],
      "source": [
        "imagePathsAll = []\n",
        "def load_labels(label_file):\n",
        "    paths, labels = [], []\n",
        "    with open(label_file, 'r') as f:\n",
        "        for line in f.readlines():\n",
        "            path, label, xmin, ymin, xmax, ymax = line.strip('\\n').split()\n",
        "            paths.append(path)\n",
        "            imagePathsAll.append(path)\n",
        "            labels.append(int(label))\n",
        "    return paths, labels"
      ]
    },
    {
      "cell_type": "code",
      "execution_count": 4,
      "metadata": {
        "id": "HCK2_hf4nmWU"
      },
      "outputs": [],
      "source": [
        "directory = '/content/2A_images/'\n",
        "def process_images(paths, labels, bound):\n",
        "  imageData = []\n",
        "  boundedLabels = []\n",
        "  imageCount = [0, 0, 0]\n",
        "  imageDone = [False, False, False]\n",
        "  for i in range(len(paths)):\n",
        "    if (imageCount[labels[i]] < bound):\n",
        "      imageCount[labels[i]] += 1\n",
        "      imgTensor = tf.image.decode_image(tf.io.read_file(directory + paths[i]))\n",
        "      resizedImage = tf.image.resize(imgTensor, [224, 224], method='lanczos3')/255\n",
        "      coloredImage = tf.image.grayscale_to_rgb(resizedImage)\n",
        "      imageData.append(coloredImage)\n",
        "      boundedLabels.append(labels[i])\n",
        "    else:\n",
        "      imageDone[labels[i]] = True\n",
        "      if (imageDone[0] and imageDone[1] and imageDone[2]):\n",
        "        break\n",
        "  return tf.convert_to_tensor(imageData), boundedLabels"
      ]
    },
    {
      "cell_type": "code",
      "execution_count": null,
      "metadata": {
        "id": "4FvHq4fGHVIh"
      },
      "outputs": [],
      "source": [
        "trainPaths, trainLabels = load_labels('/content/train_COVIDx_CT-2A.txt')\n",
        "valPaths, valLabels = load_labels('/content/val_COVIDx_CT-2A.txt')\n",
        "testPaths, testLabels = load_labels('/content/test_COVIDx_CT-2A.txt')\n",
        "\n",
        "trainData, trainLabels = process_images(trainPaths, trainLabels, 3500)\n",
        "valData, valLabels = process_images(valPaths, valLabels, 500)\n",
        "testData, testLabels = process_images(testPaths, testLabels, 1000)\n",
        "\n",
        "trainLabels = tf.keras.utils.to_categorical(trainLabels)\n",
        "valLabels = tf.keras.utils.to_categorical(valLabels)"
      ]
    },
    {
      "cell_type": "code",
      "execution_count": null,
      "metadata": {
        "id": "xUkmi-yEw-P3"
      },
      "outputs": [],
      "source": [
        "resnetModel = tf.keras.applications.resnet_v2.ResNet152V2(include_top=False, input_shape=(224, 224, 3))\n",
        "layer = resnetModel.output\n",
        "layer = layers.Flatten()(layer)\n",
        "layer = layers.Dense(4096, activation=\"relu\")(layer)\n",
        "layer = layers.Dropout(0.3)(layer)\n",
        "layer = layers.Dense(512, activation=\"relu\")(layer)\n",
        "layer = layers.Dropout(0.3)(layer)\n",
        "layer = layers.Dense(64, activation=\"relu\")(layer)\n",
        "predictions = layers.Dense(3, activation=\"softmax\")(layer)\n",
        "model = models.Model(resnetModel.input, predictions)"
      ]
    },
    {
      "cell_type": "code",
      "execution_count": 8,
      "metadata": {
        "id": "HXL8M1EOzqGA"
      },
      "outputs": [],
      "source": [
        "model.compile(optimizer='adamax',  \n",
        "              loss=tf.keras.losses.CategoricalCrossentropy(),\n",
        "              metrics=['accuracy'])"
      ]
    },
    {
      "cell_type": "code",
      "execution_count": null,
      "metadata": {
        "id": "8z4z9a9c0C6w"
      },
      "outputs": [],
      "source": [
        "history = model.fit(trainData, trainLabels, epochs=11, validation_data=(valData, valLabels))"
      ]
    },
    {
      "cell_type": "code",
      "execution_count": null,
      "metadata": {
        "colab": {
          "base_uri": "https://localhost:8080/"
        },
        "id": "-7FRFQflElde",
        "outputId": "366b36f0-4609-4d98-e250-49028354156c"
      },
      "outputs": [],
      "source": [
        "testPredictions = model.predict(testData)\n",
        "testPredictionLabels = []\n",
        "for i in range(len(testPredictions)):\n",
        "  testPredictionLabels.append(np.argmax(testPredictions[i]))\n",
        "\n",
        "confusion_mtx = tf.math.confusion_matrix(testLabels, testPredictionLabels)\n",
        "\n",
        "metric = tf.keras.metrics.Accuracy()\n",
        "metric.update_state(testLabels, testPredictionLabels)\n",
        "acc = metric.result().numpy()\n",
        "\n",
        "metric = tfa.metrics.CohenKappa(num_classes=3, sparse_labels=True)\n",
        "metric.update_state(testLabels, testPredictionLabels)\n",
        "cohen = metric.result().numpy()\n",
        "\n",
        "testLabels = tf.keras.utils.to_categorical(testLabels, num_classes=3)\n",
        "testPredictionLabels = tf.keras.utils.to_categorical(testPredictionLabels, num_classes=3)\n",
        "\n",
        "metric = tfa.metrics.MatthewsCorrelationCoefficient(num_classes=3)\n",
        "metric.update_state(testLabels, testPredictionLabels)\n",
        "mcc = metric.result().numpy()\n",
        "\n",
        "metric = tfa.metrics.F1Score(num_classes=3)\n",
        "metric.update_state(testLabels, testPredictionLabels)\n",
        "f1 = metric.result().numpy()\n",
        "\n",
        "metric = tf.keras.metrics.AUC()\n",
        "metric.update_state(testLabels, testPredictionLabels)\n",
        "auc = metric.result().numpy()\n",
        "\n",
        "loss = tf.keras.losses.CategoricalCrossentropy()\n",
        "lossCCE = loss(testLabels, testPredictions).numpy()\n",
        "\n",
        "\n",
        "print(\"Accuracy: \" + str(acc))\n",
        "print(\"Cohen's Kappa: \" + str(cohen))\n",
        "print(\"Matthews Correlation Coefficient: \" + str(mcc))\n",
        "print(\"F-1 Score: \" + str(f1))\n",
        "print(\"AUROC: \" + str(auc))\n",
        "print(\"Loss: \" + str(lossCCE))\n",
        "print(\"Confusion Matrix: \")\n",
        "print(confusion_mtx)"
      ]
    },
    {
      "cell_type": "code",
      "execution_count": null,
      "metadata": {
        "id": "nwcRCH2trIMR"
      },
      "outputs": [],
      "source": [
        "from tensorflow.keras.utils import plot_model\n",
        "plot_model(model, to_file='model.png', show_shapes=True, show_layer_names=False)"
      ]
    }
  ],
  "metadata": {
    "colab": {
      "collapsed_sections": [],
      "name": "Lung Diseases CT ResNet152.ipynb",
      "provenance": []
    },
    "kernelspec": {
      "display_name": "Python 3",
      "name": "python3"
    },
    "language_info": {
      "name": "python"
    }
  },
  "nbformat": 4,
  "nbformat_minor": 0
}
